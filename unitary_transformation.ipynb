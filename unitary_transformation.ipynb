{
 "cells": [
  {
   "cell_type": "markdown",
   "id": "5ac43c1b-bd6e-414c-8678-5867d196e61c",
   "metadata": {},
   "source": [
    "## What is this notebook about ?"
   ]
  },
  {
   "cell_type": "code",
   "execution_count": 1,
   "id": "4899fff2-e2af-4ac6-afaa-82ee2c309b8c",
   "metadata": {},
   "outputs": [],
   "source": [
    "import numpy as np\n",
    "import pandas as pd\n",
    "import matplotlib.pyplot as plt\n",
    "\n",
    "from mpl_toolkits.mplot3d import Axes3D"
   ]
  },
  {
   "cell_type": "markdown",
   "id": "cc609dbe-fb27-4124-bf82-240f77f0b13b",
   "metadata": {},
   "source": [
    "#### Defining the axis rotation angles"
   ]
  },
  {
   "cell_type": "code",
   "execution_count": 2,
   "id": "edd20a38-1f46-4a88-89fb-b0ab61dfdfc7",
   "metadata": {},
   "outputs": [],
   "source": [
    "theta = np.array([np.pi/15,-np.pi/9, -np.pi/20])"
   ]
  },
  {
   "cell_type": "markdown",
   "id": "b1a47cf3-d5b9-4485-ba53-4a1a88d180a6",
   "metadata": {},
   "source": [
    "#### Defining singular values"
   ]
  },
  {
   "cell_type": "code",
   "execution_count": 3,
   "id": "f51e5ab9-fd06-4e66-8195-9ae121a92598",
   "metadata": {},
   "outputs": [],
   "source": [
    "sigma = np.diag([3,1,0.5])"
   ]
  },
  {
   "cell_type": "markdown",
   "id": "b49ffa69-b335-4eb7-9ae3-647219e02a8c",
   "metadata": {},
   "source": [
    "#### Defining rotation matrices"
   ]
  },
  {
   "cell_type": "code",
   "execution_count": 4,
   "id": "ca16a741-220d-4b28-aa51-35c6ab6ee7b0",
   "metadata": {},
   "outputs": [],
   "source": [
    "Rx = np.array([[1,0,0],\n",
    "               [0, np.cos(theta[0]),-np.sin(theta[0])],\n",
    "               [0,np.sin(theta[0]),np.cos(theta[0])]])\n",
    "\n",
    "Ry = np.array([[np.cos(theta[1]),0,np.sin(theta[1])],\n",
    "               [0,1,0],\n",
    "               [-np.sin(theta[1]),0,np.cos(theta[2])]])\n",
    "\n",
    "Rz = np.array([[np.cos(theta[2]),-np.sin(theta[2]),0],\n",
    "               [np.sin(theta[2]),np.cos(theta[2]),0],\n",
    "               [0,0,1]])\n",
    "\n",
    "# matrix multiplication\n",
    "X = Rz @ Ry @ Rx @ sigma"
   ]
  },
  {
   "cell_type": "markdown",
   "id": "7bb57556-c4f2-4088-a838-d021c6987877",
   "metadata": {},
   "source": [
    "## Plotting sphere"
   ]
  },
  {
   "cell_type": "markdown",
   "id": "4ea81bb6-66f9-46de-aa9a-f762a1b310d7",
   "metadata": {},
   "source": [
    "### Concepts behind plotting a sphere\n",
    "\n",
    "A sphere can be plotted based parametric expressions which are functions of two parameters -\n",
    "* $\\phi$ : The Polar angle\n",
    "* $\\theta$ : The azimuthal angle\n",
    "\n",
    "------\n",
    "Based on these two parameters we can define a set of points which can define the surface of the sphere\n",
    "\n",
    "Let (x,y,z) defines the coordinate on a sphere of radius $r$. These individual coordinates are defined as follows -\n",
    "* $x = r sin \\phi cos \\theta$\n",
    "* $y = r sin \\phi sin \\theta$\n",
    "* $z = r cos \\phi$\n",
    "\n",
    "------\n",
    "#### How to plot now ?\n",
    "The task now would be to create a grid of $u$ & $v$ and then defined the (x,y,z) on these grid"
   ]
  },
  {
   "cell_type": "code",
   "execution_count": 5,
   "id": "34e80db1-ff05-410d-8c0f-bacd68b74d52",
   "metadata": {},
   "outputs": [],
   "source": [
    "# radius of the sphere\n",
    "r = 1\n",
    "# Creating a grid on theta and phi\n",
    "\n",
    "# let theta=u and phi=v\n",
    "phi = np.linspace(-np.pi,np.pi,100)\n",
    "theta = np.linspace(0,np.pi,100)\n",
    "\n",
    "x = r*np.outer(np.sin(phi),np.cos(theta))\n",
    "y = r*np.outer(np.sin(phi),np.sin(theta))\n",
    "z = r*np.outer(np.cos(phi),np.ones(np.size(phi)))\n",
    "\n",
    "plt.show()"
   ]
  }
 ],
 "metadata": {
  "kernelspec": {
   "display_name": "Python 3",
   "language": "python",
   "name": "python3"
  },
  "language_info": {
   "codemirror_mode": {
    "name": "ipython",
    "version": 3
   },
   "file_extension": ".py",
   "mimetype": "text/x-python",
   "name": "python",
   "nbconvert_exporter": "python",
   "pygments_lexer": "ipython3",
   "version": "3.8.3"
  }
 },
 "nbformat": 4,
 "nbformat_minor": 5
}
